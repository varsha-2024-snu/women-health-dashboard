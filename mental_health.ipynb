{
  "nbformat": 4,
  "nbformat_minor": 0,
  "metadata": {
    "colab": {
      "provenance": [],
      "gpuType": "V28"
    },
    "kernelspec": {
      "name": "python3",
      "display_name": "Python 3"
    },
    "language_info": {
      "name": "python"
    },
    "accelerator": "TPU"
  },
  "cells": [
    {
      "cell_type": "code",
      "execution_count": null,
      "metadata": {
        "colab": {
          "base_uri": "https://localhost:8080/"
        },
        "id": "4qZc1ps8f0fO",
        "outputId": "de081b40-6e7e-4bdb-f811-d81fc8a562fb"
      },
      "outputs": [
        {
          "output_type": "stream",
          "name": "stdout",
          "text": [
            "             Timestamp  Age  Gender         Country state self_employed  \\\n",
            "0  2014-08-27 11:29:31   37  Female   United States    IL           NaN   \n",
            "1  2014-08-27 11:29:37   44       M   United States    IN           NaN   \n",
            "2  2014-08-27 11:29:44   32    Male          Canada   NaN           NaN   \n",
            "3  2014-08-27 11:29:46   31    Male  United Kingdom   NaN           NaN   \n",
            "4  2014-08-27 11:30:22   31    Male   United States    TX           NaN   \n",
            "\n",
            "  family_history treatment work_interfere    no_employees  ...  \\\n",
            "0             No       Yes          Often            6-25  ...   \n",
            "1             No        No         Rarely  More than 1000  ...   \n",
            "2             No        No         Rarely            6-25  ...   \n",
            "3            Yes       Yes          Often          26-100  ...   \n",
            "4             No        No          Never         100-500  ...   \n",
            "\n",
            "                leave mental_health_consequence phys_health_consequence  \\\n",
            "0       Somewhat easy                        No                      No   \n",
            "1          Don't know                     Maybe                      No   \n",
            "2  Somewhat difficult                        No                      No   \n",
            "3  Somewhat difficult                       Yes                     Yes   \n",
            "4          Don't know                        No                      No   \n",
            "\n",
            "      coworkers supervisor mental_health_interview phys_health_interview  \\\n",
            "0  Some of them        Yes                      No                 Maybe   \n",
            "1            No         No                      No                    No   \n",
            "2           Yes        Yes                     Yes                   Yes   \n",
            "3  Some of them         No                   Maybe                 Maybe   \n",
            "4  Some of them        Yes                     Yes                   Yes   \n",
            "\n",
            "  mental_vs_physical obs_consequence comments  \n",
            "0                Yes              No      NaN  \n",
            "1         Don't know              No      NaN  \n",
            "2                 No              No      NaN  \n",
            "3                 No             Yes      NaN  \n",
            "4         Don't know              No      NaN  \n",
            "\n",
            "[5 rows x 27 columns]\n"
          ]
        }
      ],
      "source": [
        "import pandas as pd\n",
        "\n",
        "# Load the dataset\n",
        "df = pd.read_csv('survey.csv')  # Replace with your dataset's filename\n",
        "print(df.head())"
      ]
    },
    {
      "cell_type": "code",
      "source": [
        "print(df.info())"
      ],
      "metadata": {
        "colab": {
          "base_uri": "https://localhost:8080/"
        },
        "id": "d85sQTtcgEhK",
        "outputId": "e5f99128-57cf-4fcd-9032-2c744803527d"
      },
      "execution_count": null,
      "outputs": [
        {
          "output_type": "stream",
          "name": "stdout",
          "text": [
            "<class 'pandas.core.frame.DataFrame'>\n",
            "RangeIndex: 1259 entries, 0 to 1258\n",
            "Data columns (total 27 columns):\n",
            " #   Column                     Non-Null Count  Dtype \n",
            "---  ------                     --------------  ----- \n",
            " 0   Timestamp                  1259 non-null   object\n",
            " 1   Age                        1259 non-null   int64 \n",
            " 2   Gender                     1259 non-null   object\n",
            " 3   Country                    1259 non-null   object\n",
            " 4   state                      744 non-null    object\n",
            " 5   self_employed              1241 non-null   object\n",
            " 6   family_history             1259 non-null   object\n",
            " 7   treatment                  1259 non-null   object\n",
            " 8   work_interfere             995 non-null    object\n",
            " 9   no_employees               1259 non-null   object\n",
            " 10  remote_work                1259 non-null   object\n",
            " 11  tech_company               1259 non-null   object\n",
            " 12  benefits                   1259 non-null   object\n",
            " 13  care_options               1259 non-null   object\n",
            " 14  wellness_program           1259 non-null   object\n",
            " 15  seek_help                  1259 non-null   object\n",
            " 16  anonymity                  1259 non-null   object\n",
            " 17  leave                      1259 non-null   object\n",
            " 18  mental_health_consequence  1259 non-null   object\n",
            " 19  phys_health_consequence    1259 non-null   object\n",
            " 20  coworkers                  1259 non-null   object\n",
            " 21  supervisor                 1259 non-null   object\n",
            " 22  mental_health_interview    1259 non-null   object\n",
            " 23  phys_health_interview      1259 non-null   object\n",
            " 24  mental_vs_physical         1259 non-null   object\n",
            " 25  obs_consequence            1259 non-null   object\n",
            " 26  comments                   164 non-null    object\n",
            "dtypes: int64(1), object(26)\n",
            "memory usage: 265.7+ KB\n",
            "None\n"
          ]
        }
      ]
    },
    {
      "cell_type": "code",
      "source": [
        "print(df.isnull().sum())"
      ],
      "metadata": {
        "colab": {
          "base_uri": "https://localhost:8080/"
        },
        "id": "EW_b40ohgOHP",
        "outputId": "073ab8a1-240e-4f86-8067-46db4ffb3b55"
      },
      "execution_count": null,
      "outputs": [
        {
          "output_type": "stream",
          "name": "stdout",
          "text": [
            "Timestamp                       0\n",
            "Age                             0\n",
            "Gender                          0\n",
            "Country                         0\n",
            "state                         515\n",
            "self_employed                  18\n",
            "family_history                  0\n",
            "treatment                       0\n",
            "work_interfere                264\n",
            "no_employees                    0\n",
            "remote_work                     0\n",
            "tech_company                    0\n",
            "benefits                        0\n",
            "care_options                    0\n",
            "wellness_program                0\n",
            "seek_help                       0\n",
            "anonymity                       0\n",
            "leave                           0\n",
            "mental_health_consequence       0\n",
            "phys_health_consequence         0\n",
            "coworkers                       0\n",
            "supervisor                      0\n",
            "mental_health_interview         0\n",
            "phys_health_interview           0\n",
            "mental_vs_physical              0\n",
            "obs_consequence                 0\n",
            "comments                     1095\n",
            "dtype: int64\n"
          ]
        }
      ]
    },
    {
      "cell_type": "code",
      "source": [
        "# Filter for women\n",
        "df_women = df[df['Gender'].str.contains('Female', case=False, na=False)]\n",
        "print(df_women.head())"
      ],
      "metadata": {
        "colab": {
          "base_uri": "https://localhost:8080/"
        },
        "id": "WGayLiKCgj93",
        "outputId": "3104573b-7322-4493-81c9-3f3a860f8b4b"
      },
      "execution_count": null,
      "outputs": [
        {
          "output_type": "stream",
          "name": "stdout",
          "text": [
            "              Timestamp  Age  Gender        Country state self_employed  \\\n",
            "0   2014-08-27 11:29:31   37  Female  United States    IL           NaN   \n",
            "6   2014-08-27 11:31:50   35  Female  United States    MI           NaN   \n",
            "8   2014-08-27 11:32:39   42  Female  United States    IL           NaN   \n",
            "12  2014-08-27 11:33:23   42  female  United States    CA           NaN   \n",
            "15  2014-08-27 11:34:00   29  female  United States    IL           NaN   \n",
            "\n",
            "   family_history treatment work_interfere no_employees  ...  \\\n",
            "0              No       Yes          Often         6-25  ...   \n",
            "6             Yes       Yes      Sometimes          1-5  ...   \n",
            "8             Yes       Yes      Sometimes      100-500  ...   \n",
            "12            Yes       Yes      Sometimes       26-100  ...   \n",
            "15            Yes       Yes         Rarely       26-100  ...   \n",
            "\n",
            "                 leave mental_health_consequence phys_health_consequence  \\\n",
            "0        Somewhat easy                        No                      No   \n",
            "6   Somewhat difficult                     Maybe                   Maybe   \n",
            "8       Very difficult                     Maybe                      No   \n",
            "12  Somewhat difficult                       Yes                     Yes   \n",
            "15       Somewhat easy                        No                      No   \n",
            "\n",
            "       coworkers    supervisor mental_health_interview phys_health_interview  \\\n",
            "0   Some of them           Yes                      No                 Maybe   \n",
            "6   Some of them            No                      No                    No   \n",
            "8            Yes           Yes                      No                 Maybe   \n",
            "12           Yes           Yes                   Maybe                 Maybe   \n",
            "15           Yes  Some of them                   Maybe                 Maybe   \n",
            "\n",
            "   mental_vs_physical obs_consequence  \\\n",
            "0                 Yes              No   \n",
            "6          Don't know              No   \n",
            "8                  No              No   \n",
            "12                 No             Yes   \n",
            "15         Don't know              No   \n",
            "\n",
            "                                             comments  \n",
            "0                                                 NaN  \n",
            "6                                                 NaN  \n",
            "8                                                 NaN  \n",
            "12                                                NaN  \n",
            "15  I have chronic low-level neurological issues t...  \n",
            "\n",
            "[5 rows x 27 columns]\n"
          ]
        }
      ]
    },
    {
      "cell_type": "code",
      "source": [
        "print(df_women.isnull().sum())"
      ],
      "metadata": {
        "colab": {
          "base_uri": "https://localhost:8080/"
        },
        "id": "ANfK4T6VgmSC",
        "outputId": "081a20e9-f2b0-4304-b1e2-ff4d3ee2dcab"
      },
      "execution_count": null,
      "outputs": [
        {
          "output_type": "stream",
          "name": "stdout",
          "text": [
            "Timestamp                      0\n",
            "Age                            0\n",
            "Gender                         0\n",
            "Country                        0\n",
            "state                         59\n",
            "self_employed                  5\n",
            "family_history                 0\n",
            "treatment                      0\n",
            "work_interfere                24\n",
            "no_employees                   0\n",
            "remote_work                    0\n",
            "tech_company                   0\n",
            "benefits                       0\n",
            "care_options                   0\n",
            "wellness_program               0\n",
            "seek_help                      0\n",
            "anonymity                      0\n",
            "leave                          0\n",
            "mental_health_consequence      0\n",
            "phys_health_consequence        0\n",
            "coworkers                      0\n",
            "supervisor                     0\n",
            "mental_health_interview        0\n",
            "phys_health_interview          0\n",
            "mental_vs_physical             0\n",
            "obs_consequence                0\n",
            "comments                     158\n",
            "dtype: int64\n"
          ]
        }
      ]
    },
    {
      "cell_type": "code",
      "source": [
        "features = ['Age', 'family_history', 'work_interfere', 'benefits', 'seek_help', 'anonymity', 'mental_health_consequence']\n",
        "target = 'treatment'\n",
        "df_women = df_women[features + [target]]"
      ],
      "metadata": {
        "id": "i01VsB-3gsFQ"
      },
      "execution_count": null,
      "outputs": []
    },
    {
      "cell_type": "code",
      "source": [
        "df_women = df_women.dropna()"
      ],
      "metadata": {
        "id": "TpG7amhsgvAo"
      },
      "execution_count": null,
      "outputs": []
    },
    {
      "cell_type": "code",
      "source": [
        "from sklearn.preprocessing import OneHotEncoder\n",
        "\n",
        "# Encode categorical features\n",
        "encoder = OneHotEncoder(drop='first')  # Remove the 'sparse' parameter\n",
        "encoded_features = encoder.fit_transform(df_women[['family_history', 'work_interfere', 'benefits', 'seek_help', 'anonymity', 'mental_health_consequence']])\n",
        "encoded_df = pd.DataFrame(encoded_features.toarray(), columns=encoder.get_feature_names_out())  # Use .toarray() to convert to a dense array"
      ],
      "metadata": {
        "id": "2SmEGHjIg_CT"
      },
      "execution_count": null,
      "outputs": []
    },
    {
      "cell_type": "code",
      "source": [
        "# Step 1: Filter the Dataset for Women\n",
        "df_women = df[df['Gender'].str.contains('Female', case=False, na=False)]\n",
        "print(df_women.head())\n",
        "\n",
        "# Step 2: Select Relevant Features\n",
        "features = ['Age', 'family_history', 'work_interfere', 'benefits', 'seek_help', 'anonymity', 'mental_health_consequence']\n",
        "target = 'treatment'\n",
        "df_women = df_women[features + [target]]\n",
        "df_women = df_women.dropna()\n",
        "\n",
        "# Step 3: Preprocess the Data\n",
        "from sklearn.preprocessing import OneHotEncoder\n",
        "encoder = OneHotEncoder(drop='first')  # Remove the 'sparse' parameter\n",
        "encoded_features = encoder.fit_transform(df_women[['family_history', 'work_interfere', 'benefits', 'seek_help', 'anonymity', 'mental_health_consequence']])\n",
        "encoded_df = pd.DataFrame(encoded_features.toarray(), columns=encoder.get_feature_names_out())  # Use .toarray()\n",
        "\n",
        "X = pd.concat([df_women[['Age']], encoded_df], axis=1)\n",
        "y = df_women[target]\n",
        "\n",
        "from sklearn.model_selection import train_test_split\n",
        "X_train, X_test, y_train, y_test = train_test_split(X, y, test_size=0.2, random_state=42)\n",
        "\n",
        "# Step 4: Train the Model\n",
        "from sklearn.ensemble import RandomForestClassifier\n",
        "model = RandomForestClassifier(random_state=42)\n",
        "model.fit(X_train, y_train)\n",
        "\n",
        "# Step 5: Evaluate the Model\n",
        "from sklearn.metrics import classification_report, accuracy_score\n",
        "y_pred = model.predict(X_test)\n",
        "print(\"Accuracy:\", accuracy_score(y_test, y_pred))\n",
        "print(\"Classification Report:\\n\", classification_report(y_test, y_pred))\n",
        "\n",
        "# Step 6: Save the Model\n",
        "import joblib\n",
        "joblib.dump(model, 'women_mental_health_model.pkl')\n",
        "from google.colab import files\n",
        "files.download('women_mental_health_model.pkl')\n",
        "\n",
        "# Step 7: Make Predictions\n",
        "model = joblib.load('women_mental_health_model.pkl')\n",
        "example_input = pd.DataFrame({\n",
        "    'Age': [30],\n",
        "    'family_history_Yes': [1],\n",
        "    'work_interfere_Sometimes': [1],\n",
        "    'benefits_Yes': [1],\n",
        "    'seek_help_Yes': [1],\n",
        "    'anonymity_Yes': [1],\n",
        "    'mental_health_consequence_No': [1]\n",
        "})\n",
        "prediction = model.predict(example_input)\n",
        "print(\"Prediction:\", prediction)"
      ],
      "metadata": {
        "colab": {
          "base_uri": "https://localhost:8080/",
          "height": 1000
        },
        "id": "_ZhtS1OPhAqk",
        "outputId": "4e0ce678-5a41-4f92-d865-ab14a5fe7c55"
      },
      "execution_count": null,
      "outputs": [
        {
          "output_type": "stream",
          "name": "stdout",
          "text": [
            "              Timestamp  Age  Gender        Country state self_employed  \\\n",
            "0   2014-08-27 11:29:31   37  Female  United States    IL           NaN   \n",
            "6   2014-08-27 11:31:50   35  Female  United States    MI           NaN   \n",
            "8   2014-08-27 11:32:39   42  Female  United States    IL           NaN   \n",
            "12  2014-08-27 11:33:23   42  female  United States    CA           NaN   \n",
            "15  2014-08-27 11:34:00   29  female  United States    IL           NaN   \n",
            "\n",
            "   family_history treatment work_interfere no_employees  ...  \\\n",
            "0              No       Yes          Often         6-25  ...   \n",
            "6             Yes       Yes      Sometimes          1-5  ...   \n",
            "8             Yes       Yes      Sometimes      100-500  ...   \n",
            "12            Yes       Yes      Sometimes       26-100  ...   \n",
            "15            Yes       Yes         Rarely       26-100  ...   \n",
            "\n",
            "                 leave mental_health_consequence phys_health_consequence  \\\n",
            "0        Somewhat easy                        No                      No   \n",
            "6   Somewhat difficult                     Maybe                   Maybe   \n",
            "8       Very difficult                     Maybe                      No   \n",
            "12  Somewhat difficult                       Yes                     Yes   \n",
            "15       Somewhat easy                        No                      No   \n",
            "\n",
            "       coworkers    supervisor mental_health_interview phys_health_interview  \\\n",
            "0   Some of them           Yes                      No                 Maybe   \n",
            "6   Some of them            No                      No                    No   \n",
            "8            Yes           Yes                      No                 Maybe   \n",
            "12           Yes           Yes                   Maybe                 Maybe   \n",
            "15           Yes  Some of them                   Maybe                 Maybe   \n",
            "\n",
            "   mental_vs_physical obs_consequence  \\\n",
            "0                 Yes              No   \n",
            "6          Don't know              No   \n",
            "8                  No              No   \n",
            "12                 No             Yes   \n",
            "15         Don't know              No   \n",
            "\n",
            "                                             comments  \n",
            "0                                                 NaN  \n",
            "6                                                 NaN  \n",
            "8                                                 NaN  \n",
            "12                                                NaN  \n",
            "15  I have chronic low-level neurological issues t...  \n",
            "\n",
            "[5 rows x 27 columns]\n"
          ]
        },
        {
          "output_type": "error",
          "ename": "ValueError",
          "evalue": "Found input variables with inconsistent numbers of samples: [319, 167]",
          "traceback": [
            "\u001b[0;31m---------------------------------------------------------------------------\u001b[0m",
            "\u001b[0;31mValueError\u001b[0m                                Traceback (most recent call last)",
            "\u001b[0;32m<ipython-input-10-4c18761cf810>\u001b[0m in \u001b[0;36m<cell line: 0>\u001b[0;34m()\u001b[0m\n\u001b[1;32m     19\u001b[0m \u001b[0;34m\u001b[0m\u001b[0m\n\u001b[1;32m     20\u001b[0m \u001b[0;32mfrom\u001b[0m \u001b[0msklearn\u001b[0m\u001b[0;34m.\u001b[0m\u001b[0mmodel_selection\u001b[0m \u001b[0;32mimport\u001b[0m \u001b[0mtrain_test_split\u001b[0m\u001b[0;34m\u001b[0m\u001b[0;34m\u001b[0m\u001b[0m\n\u001b[0;32m---> 21\u001b[0;31m \u001b[0mX_train\u001b[0m\u001b[0;34m,\u001b[0m \u001b[0mX_test\u001b[0m\u001b[0;34m,\u001b[0m \u001b[0my_train\u001b[0m\u001b[0;34m,\u001b[0m \u001b[0my_test\u001b[0m \u001b[0;34m=\u001b[0m \u001b[0mtrain_test_split\u001b[0m\u001b[0;34m(\u001b[0m\u001b[0mX\u001b[0m\u001b[0;34m,\u001b[0m \u001b[0my\u001b[0m\u001b[0;34m,\u001b[0m \u001b[0mtest_size\u001b[0m\u001b[0;34m=\u001b[0m\u001b[0;36m0.2\u001b[0m\u001b[0;34m,\u001b[0m \u001b[0mrandom_state\u001b[0m\u001b[0;34m=\u001b[0m\u001b[0;36m42\u001b[0m\u001b[0;34m)\u001b[0m\u001b[0;34m\u001b[0m\u001b[0;34m\u001b[0m\u001b[0m\n\u001b[0m\u001b[1;32m     22\u001b[0m \u001b[0;34m\u001b[0m\u001b[0m\n\u001b[1;32m     23\u001b[0m \u001b[0;31m# Step 4: Train the Model\u001b[0m\u001b[0;34m\u001b[0m\u001b[0;34m\u001b[0m\u001b[0m\n",
            "\u001b[0;32m/usr/local/lib/python3.11/dist-packages/sklearn/utils/_param_validation.py\u001b[0m in \u001b[0;36mwrapper\u001b[0;34m(*args, **kwargs)\u001b[0m\n\u001b[1;32m    214\u001b[0m                     )\n\u001b[1;32m    215\u001b[0m                 ):\n\u001b[0;32m--> 216\u001b[0;31m                     \u001b[0;32mreturn\u001b[0m \u001b[0mfunc\u001b[0m\u001b[0;34m(\u001b[0m\u001b[0;34m*\u001b[0m\u001b[0margs\u001b[0m\u001b[0;34m,\u001b[0m \u001b[0;34m**\u001b[0m\u001b[0mkwargs\u001b[0m\u001b[0;34m)\u001b[0m\u001b[0;34m\u001b[0m\u001b[0;34m\u001b[0m\u001b[0m\n\u001b[0m\u001b[1;32m    217\u001b[0m             \u001b[0;32mexcept\u001b[0m \u001b[0mInvalidParameterError\u001b[0m \u001b[0;32mas\u001b[0m \u001b[0me\u001b[0m\u001b[0;34m:\u001b[0m\u001b[0;34m\u001b[0m\u001b[0;34m\u001b[0m\u001b[0m\n\u001b[1;32m    218\u001b[0m                 \u001b[0;31m# When the function is just a wrapper around an estimator, we allow\u001b[0m\u001b[0;34m\u001b[0m\u001b[0;34m\u001b[0m\u001b[0m\n",
            "\u001b[0;32m/usr/local/lib/python3.11/dist-packages/sklearn/model_selection/_split.py\u001b[0m in \u001b[0;36mtrain_test_split\u001b[0;34m(test_size, train_size, random_state, shuffle, stratify, *arrays)\u001b[0m\n\u001b[1;32m   2846\u001b[0m         \u001b[0;32mraise\u001b[0m \u001b[0mValueError\u001b[0m\u001b[0;34m(\u001b[0m\u001b[0;34m\"At least one array required as input\"\u001b[0m\u001b[0;34m)\u001b[0m\u001b[0;34m\u001b[0m\u001b[0;34m\u001b[0m\u001b[0m\n\u001b[1;32m   2847\u001b[0m \u001b[0;34m\u001b[0m\u001b[0m\n\u001b[0;32m-> 2848\u001b[0;31m     \u001b[0marrays\u001b[0m \u001b[0;34m=\u001b[0m \u001b[0mindexable\u001b[0m\u001b[0;34m(\u001b[0m\u001b[0;34m*\u001b[0m\u001b[0marrays\u001b[0m\u001b[0;34m)\u001b[0m\u001b[0;34m\u001b[0m\u001b[0;34m\u001b[0m\u001b[0m\n\u001b[0m\u001b[1;32m   2849\u001b[0m \u001b[0;34m\u001b[0m\u001b[0m\n\u001b[1;32m   2850\u001b[0m     \u001b[0mn_samples\u001b[0m \u001b[0;34m=\u001b[0m \u001b[0m_num_samples\u001b[0m\u001b[0;34m(\u001b[0m\u001b[0marrays\u001b[0m\u001b[0;34m[\u001b[0m\u001b[0;36m0\u001b[0m\u001b[0;34m]\u001b[0m\u001b[0;34m)\u001b[0m\u001b[0;34m\u001b[0m\u001b[0;34m\u001b[0m\u001b[0m\n",
            "\u001b[0;32m/usr/local/lib/python3.11/dist-packages/sklearn/utils/validation.py\u001b[0m in \u001b[0;36mindexable\u001b[0;34m(*iterables)\u001b[0m\n\u001b[1;32m    530\u001b[0m \u001b[0;34m\u001b[0m\u001b[0m\n\u001b[1;32m    531\u001b[0m     \u001b[0mresult\u001b[0m \u001b[0;34m=\u001b[0m \u001b[0;34m[\u001b[0m\u001b[0m_make_indexable\u001b[0m\u001b[0;34m(\u001b[0m\u001b[0mX\u001b[0m\u001b[0;34m)\u001b[0m \u001b[0;32mfor\u001b[0m \u001b[0mX\u001b[0m \u001b[0;32min\u001b[0m \u001b[0miterables\u001b[0m\u001b[0;34m]\u001b[0m\u001b[0;34m\u001b[0m\u001b[0;34m\u001b[0m\u001b[0m\n\u001b[0;32m--> 532\u001b[0;31m     \u001b[0mcheck_consistent_length\u001b[0m\u001b[0;34m(\u001b[0m\u001b[0;34m*\u001b[0m\u001b[0mresult\u001b[0m\u001b[0;34m)\u001b[0m\u001b[0;34m\u001b[0m\u001b[0;34m\u001b[0m\u001b[0m\n\u001b[0m\u001b[1;32m    533\u001b[0m     \u001b[0;32mreturn\u001b[0m \u001b[0mresult\u001b[0m\u001b[0;34m\u001b[0m\u001b[0;34m\u001b[0m\u001b[0m\n\u001b[1;32m    534\u001b[0m \u001b[0;34m\u001b[0m\u001b[0m\n",
            "\u001b[0;32m/usr/local/lib/python3.11/dist-packages/sklearn/utils/validation.py\u001b[0m in \u001b[0;36mcheck_consistent_length\u001b[0;34m(*arrays)\u001b[0m\n\u001b[1;32m    473\u001b[0m     \u001b[0muniques\u001b[0m \u001b[0;34m=\u001b[0m \u001b[0mnp\u001b[0m\u001b[0;34m.\u001b[0m\u001b[0munique\u001b[0m\u001b[0;34m(\u001b[0m\u001b[0mlengths\u001b[0m\u001b[0;34m)\u001b[0m\u001b[0;34m\u001b[0m\u001b[0;34m\u001b[0m\u001b[0m\n\u001b[1;32m    474\u001b[0m     \u001b[0;32mif\u001b[0m \u001b[0mlen\u001b[0m\u001b[0;34m(\u001b[0m\u001b[0muniques\u001b[0m\u001b[0;34m)\u001b[0m \u001b[0;34m>\u001b[0m \u001b[0;36m1\u001b[0m\u001b[0;34m:\u001b[0m\u001b[0;34m\u001b[0m\u001b[0;34m\u001b[0m\u001b[0m\n\u001b[0;32m--> 475\u001b[0;31m         raise ValueError(\n\u001b[0m\u001b[1;32m    476\u001b[0m             \u001b[0;34m\"Found input variables with inconsistent numbers of samples: %r\"\u001b[0m\u001b[0;34m\u001b[0m\u001b[0;34m\u001b[0m\u001b[0m\n\u001b[1;32m    477\u001b[0m             \u001b[0;34m%\u001b[0m \u001b[0;34m[\u001b[0m\u001b[0mint\u001b[0m\u001b[0;34m(\u001b[0m\u001b[0ml\u001b[0m\u001b[0;34m)\u001b[0m \u001b[0;32mfor\u001b[0m \u001b[0ml\u001b[0m \u001b[0;32min\u001b[0m \u001b[0mlengths\u001b[0m\u001b[0;34m]\u001b[0m\u001b[0;34m\u001b[0m\u001b[0;34m\u001b[0m\u001b[0m\n",
            "\u001b[0;31mValueError\u001b[0m: Found input variables with inconsistent numbers of samples: [319, 167]"
          ]
        }
      ]
    },
    {
      "cell_type": "code",
      "source": [
        "print(X.isnull().sum())\n",
        "print(y.isnull().sum())"
      ],
      "metadata": {
        "colab": {
          "base_uri": "https://localhost:8080/"
        },
        "id": "_W6frD4vhWMu",
        "outputId": "0297da7b-38d7-4ef9-df44-032613c85b27"
      },
      "execution_count": null,
      "outputs": [
        {
          "output_type": "stream",
          "name": "stdout",
          "text": [
            "Age                              152\n",
            "family_history_Yes               152\n",
            "work_interfere_Often             152\n",
            "work_interfere_Rarely            152\n",
            "work_interfere_Sometimes         152\n",
            "benefits_No                      152\n",
            "benefits_Yes                     152\n",
            "seek_help_No                     152\n",
            "seek_help_Yes                    152\n",
            "anonymity_No                     152\n",
            "anonymity_Yes                    152\n",
            "mental_health_consequence_No     152\n",
            "mental_health_consequence_Yes    152\n",
            "dtype: int64\n",
            "0\n"
          ]
        }
      ]
    },
    {
      "cell_type": "code",
      "source": [
        "X = X.dropna()\n",
        "y = y[X.index]  # Ensure y aligns with X after dropping rows"
      ],
      "metadata": {
        "id": "kFn-6BivhlgJ"
      },
      "execution_count": null,
      "outputs": []
    },
    {
      "cell_type": "code",
      "source": [
        "print(X.shape, y.shape)"
      ],
      "metadata": {
        "colab": {
          "base_uri": "https://localhost:8080/"
        },
        "id": "2ZXJpCVThqh1",
        "outputId": "8bb5f219-38ad-4142-ba52-ade713b0ab95"
      },
      "execution_count": null,
      "outputs": [
        {
          "output_type": "stream",
          "name": "stdout",
          "text": [
            "(15, 13) (15,)\n"
          ]
        }
      ]
    },
    {
      "cell_type": "code",
      "source": [
        "y = y[X.index]"
      ],
      "metadata": {
        "id": "8qisDTDNh49q"
      },
      "execution_count": null,
      "outputs": []
    },
    {
      "cell_type": "code",
      "source": [
        "# Step 1: Split the Data\n",
        "from sklearn.model_selection import train_test_split\n",
        "X_train, X_test, y_train, y_test = train_test_split(X, y, test_size=0.2, random_state=42)\n",
        "print(X_train.shape, X_test.shape, y_train.shape, y_test.shape)\n",
        "\n",
        "# Step 2: Train the Model\n",
        "from sklearn.ensemble import RandomForestClassifier\n",
        "model = RandomForestClassifier(random_state=42)\n",
        "model.fit(X_train, y_train)\n",
        "\n",
        "# Step 3: Evaluate the Model\n",
        "from sklearn.metrics import classification_report, accuracy_score\n",
        "y_pred = model.predict(X_test)\n",
        "print(\"Accuracy:\", accuracy_score(y_test, y_pred))\n",
        "print(\"Classification Report:\\n\", classification_report(y_test, y_pred))\n",
        "\n",
        "# Step 4: Save the Model\n",
        "import joblib\n",
        "joblib.dump(model, 'women_mental_health_model.pkl')\n",
        "from google.colab import files\n",
        "files.download('women_mental_health_model.pkl')\n",
        "\n",
        "# Step 5: Make Predictions\n",
        "example_input = pd.DataFrame({\n",
        "    'Age': [30],\n",
        "    'family_history_Yes': [1],\n",
        "    'work_interfere_Often': [0],\n",
        "    'work_interfere_Rarely': [0],\n",
        "    'work_interfere_Sometimes': [1],\n",
        "    'benefits_No': [0],\n",
        "    'benefits_Yes': [1],\n",
        "    'seek_help_No': [0],\n",
        "    'seek_help_Yes': [1],\n",
        "    'anonymity_No': [0],\n",
        "    'anonymity_Yes': [1],\n",
        "    'mental_health_consequence_No': [1],\n",
        "    'mental_health_consequence_Yes': [0]\n",
        "})\n",
        "prediction = model.predict(example_input)\n",
        "print(\"Prediction:\", prediction)"
      ],
      "metadata": {
        "id": "zEvd6-PUiDp5",
        "outputId": "e01d524c-7164-419b-c8d0-5ecebd3b5b55",
        "colab": {
          "base_uri": "https://localhost:8080/",
          "height": 225
        }
      },
      "execution_count": null,
      "outputs": [
        {
          "output_type": "stream",
          "name": "stdout",
          "text": [
            "(12, 13) (3, 13) (12,) (3,)\n",
            "Accuracy: 1.0\n",
            "Classification Report:\n",
            "               precision    recall  f1-score   support\n",
            "\n",
            "         Yes       1.00      1.00      1.00         3\n",
            "\n",
            "    accuracy                           1.00         3\n",
            "   macro avg       1.00      1.00      1.00         3\n",
            "weighted avg       1.00      1.00      1.00         3\n",
            "\n"
          ]
        },
        {
          "output_type": "display_data",
          "data": {
            "text/plain": [
              "<IPython.core.display.Javascript object>"
            ],
            "application/javascript": [
              "\n",
              "    async function download(id, filename, size) {\n",
              "      if (!google.colab.kernel.accessAllowed) {\n",
              "        return;\n",
              "      }\n",
              "      const div = document.createElement('div');\n",
              "      const label = document.createElement('label');\n",
              "      label.textContent = `Downloading \"${filename}\": `;\n",
              "      div.appendChild(label);\n",
              "      const progress = document.createElement('progress');\n",
              "      progress.max = size;\n",
              "      div.appendChild(progress);\n",
              "      document.body.appendChild(div);\n",
              "\n",
              "      const buffers = [];\n",
              "      let downloaded = 0;\n",
              "\n",
              "      const channel = await google.colab.kernel.comms.open(id);\n",
              "      // Send a message to notify the kernel that we're ready.\n",
              "      channel.send({})\n",
              "\n",
              "      for await (const message of channel.messages) {\n",
              "        // Send a message to notify the kernel that we're ready.\n",
              "        channel.send({})\n",
              "        if (message.buffers) {\n",
              "          for (const buffer of message.buffers) {\n",
              "            buffers.push(buffer);\n",
              "            downloaded += buffer.byteLength;\n",
              "            progress.value = downloaded;\n",
              "          }\n",
              "        }\n",
              "      }\n",
              "      const blob = new Blob(buffers, {type: 'application/binary'});\n",
              "      const a = document.createElement('a');\n",
              "      a.href = window.URL.createObjectURL(blob);\n",
              "      a.download = filename;\n",
              "      div.appendChild(a);\n",
              "      a.click();\n",
              "      div.remove();\n",
              "    }\n",
              "  "
            ]
          },
          "metadata": {}
        },
        {
          "output_type": "display_data",
          "data": {
            "text/plain": [
              "<IPython.core.display.Javascript object>"
            ],
            "application/javascript": [
              "download(\"download_9ab7875e-b8a1-451d-a3fd-ea54a774d9e1\", \"women_mental_health_model.pkl\", 91193)"
            ]
          },
          "metadata": {}
        },
        {
          "output_type": "stream",
          "name": "stdout",
          "text": [
            "Prediction: ['Yes']\n"
          ]
        }
      ]
    }
  ]
}